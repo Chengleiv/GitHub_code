{
 "cells": [
  {
   "cell_type": "markdown",
   "metadata": {},
   "source": [
    "                                       特征筛选"
   ]
  },
  {
   "cell_type": "code",
   "execution_count": 1,
   "metadata": {},
   "outputs": [
    {
     "name": "stdout",
     "output_type": "stream",
     "text": [
      "C:/Users/85242/Desktop/特征选择打分\n"
     ]
    }
   ],
   "source": [
    "#导入数据分析包\n",
    "import numpy as np\n",
    "import pandas as pd\n",
    "import sklearn as sk\n",
    "from os.path import dirname\n",
    "import os\n",
    "import sys\n",
    "\n",
    "\n",
    "# 基础路径:即代码所在路径\n",
    "BASEPATH=str(os.getcwd()).replace('\\\\','/')\n",
    "print(BASEPATH)"
   ]
  },
  {
   "cell_type": "code",
   "execution_count": 2,
   "metadata": {},
   "outputs": [
    {
     "name": "stdout",
     "output_type": "stream",
     "text": [
      "   1    2         3   4    5     6  7  8  9  10       ...           33    34  \\\n",
      "0  0  tcp  ftp_data  SF  615     0  0  0  0   0       ...         56.0  0.32   \n",
      "1  0  tcp      http  SF  312   677  0  0  0   0       ...        255.0  1.00   \n",
      "2  0  udp   private  SF  105   146  0  0  0   0       ...        254.0  1.00   \n",
      "3  0  tcp      http  SF  307  1528  0  0  0   0       ...        255.0  1.00   \n",
      "4  0  udp   private  SF  105   146  0  0  0   0       ...        254.0  1.00   \n",
      "\n",
      "     35    36    37   38   39   40   41              42  \n",
      "0  0.03  0.32  0.00  0.0  0.0  0.0  0.0         normal.  \n",
      "1  0.00  0.05  0.04  0.0  0.0  0.0  0.0         normal.  \n",
      "2  0.01  0.00  0.00  0.0  0.0  0.0  0.0         normal.  \n",
      "3  0.00  0.00  0.00  0.0  0.0  0.0  0.0         normal.  \n",
      "4  0.01  0.01  0.00  0.0  0.0  0.0  0.0  snmpgetattack.  \n",
      "\n",
      "[5 rows x 42 columns]\n"
     ]
    }
   ],
   "source": [
    "#导入数据集并且查看数据情况\n",
    "f=open(BASEPATH+'/kdd99.csv')\n",
    "df=pd.read_csv(f,low_memory=False)\n",
    "print(df.head(5))"
   ]
  },
  {
   "cell_type": "code",
   "execution_count": 3,
   "metadata": {},
   "outputs": [
    {
     "name": "stderr",
     "output_type": "stream",
     "text": [
      "C:\\Anaconda\\lib\\site-packages\\ipykernel_launcher.py:4: FutureWarning: 'labels' is deprecated. Use 'codes' instead\n",
      "  after removing the cwd from sys.path.\n"
     ]
    }
   ],
   "source": [
    "#查看标签数据有哪些类别，且做数值转换\n",
    "labe=df['42']\n",
    "category = pd.Categorical(labe)\n",
    "df['42']=category.labels"
   ]
  },
  {
   "cell_type": "code",
   "execution_count": 4,
   "metadata": {},
   "outputs": [
    {
     "name": "stdout",
     "output_type": "stream",
     "text": [
      "     2         3   4 15\n",
      "0  tcp  ftp_data  SF  0\n",
      "1  tcp      http  SF  0\n",
      "2  udp   private  SF  0\n",
      "3  tcp      http  SF  0\n"
     ]
    }
   ],
   "source": [
    "df1=df.select_dtypes(include=['object'])\n",
    "print(df1.head(4))"
   ]
  },
  {
   "cell_type": "code",
   "execution_count": 5,
   "metadata": {},
   "outputs": [
    {
     "name": "stdout",
     "output_type": "stream",
     "text": [
      "     2         3   4 15\n",
      "0  tcp  ftp_data  SF  0\n",
      "1  tcp      http  SF  0\n",
      "2  udp   private  SF  0\n",
      "3  tcp      http  SF  0\n",
      "4  udp   private  SF  0\n",
      "Index(['2', '3', '4', '15'], dtype='object')\n"
     ]
    },
    {
     "name": "stderr",
     "output_type": "stream",
     "text": [
      "C:\\Anaconda\\lib\\site-packages\\ipykernel_launcher.py:11: FutureWarning: 'labels' is deprecated. Use 'codes' instead\n",
      "  # This is added back by InteractiveShellApp.init_path()\n",
      "C:\\Anaconda\\lib\\site-packages\\ipykernel_launcher.py:11: SettingWithCopyWarning: \n",
      "A value is trying to be set on a copy of a slice from a DataFrame.\n",
      "Try using .loc[row_indexer,col_indexer] = value instead\n",
      "\n",
      "See the caveats in the documentation: http://pandas.pydata.org/pandas-docs/stable/indexing.html#indexing-view-versus-copy\n",
      "  # This is added back by InteractiveShellApp.init_path()\n"
     ]
    },
    {
     "name": "stdout",
     "output_type": "stream",
     "text": [
      "   2   3   4  15  1    5     6  7  8  9 ...     33    34    35    36    37  \\\n",
      "0  2  20  10   0  0  615     0  0  0  0 ...   56.0  0.32  0.03  0.32  0.00   \n",
      "1  2  23  10   0  0  312   677  0  0  0 ...  255.0  1.00  0.00  0.05  0.04   \n",
      "2  3  47  10   0  0  105   146  0  0  0 ...  254.0  1.00  0.01  0.00  0.00   \n",
      "3  2  23  10   0  0  307  1528  0  0  0 ...  255.0  1.00  0.00  0.00  0.00   \n",
      "4  3  47  10   0  0  105   146  0  0  0 ...  254.0  1.00  0.01  0.01  0.00   \n",
      "\n",
      "    38   39   40   41  42  \n",
      "0  0.0  0.0  0.0  0.0  16  \n",
      "1  0.0  0.0  0.0  0.0  16  \n",
      "2  0.0  0.0  0.0  0.0  16  \n",
      "3  0.0  0.0  0.0  0.0  16  \n",
      "4  0.0  0.0  0.0  0.0  28  \n",
      "\n",
      "[5 rows x 42 columns]\n"
     ]
    }
   ],
   "source": [
    "#此部分为数据预处理部分\n",
    "df1=df.select_dtypes(include=['object'])\n",
    "print(df1.head(5))\n",
    "colums=df1.columns\n",
    "print(colums)\n",
    "for colum in colums:\n",
    "    \n",
    "    if int(colum)<=15:\n",
    "        labe=df1[colum]\n",
    "        category = pd.Categorical(labe)\n",
    "        df1[colum]=category.labels\n",
    "    else:\n",
    "        df1[colum]=df1[colum].replace('?',0)\n",
    "        df1[colum]=df1[colum].astype(np.float64)\n",
    "\n",
    "#删除object数据类型        \n",
    "for colum in colums:\n",
    "    df.drop(colum,axis=1, inplace=True)\n",
    "        \n",
    "df=pd.concat([df1,df],axis=1)\n",
    "print(df.head(5))\n",
    "        "
   ]
  },
  {
   "cell_type": "code",
   "execution_count": 42,
   "metadata": {},
   "outputs": [],
   "source": [
    "from sklearn.metrics import accuracy_score\n",
    "from sklearn.metrics import recall_score  \n",
    "from sklearn.metrics import f1_score\n",
    "from sklearn.metrics import classification_report\n",
    "#保存结果\n",
    "file_out=open(BASEPATH+'/result4.csv',mode='w')\n",
    "def save_result(rfr,x,y,type,cnt):\n",
    "    \n",
    "    if type==1:\n",
    "        a=accuracy_score(y, rfr.predict(x) )\n",
    "        b=recall_score(y, rfr.predict(x),average='micro')\n",
    "        c=f1_score(y, rfr.predict(x),average='micro')\n",
    "        d=classification_report(y, rfr.predict(x))\n",
    "        aline=format('%s,%s,%s,%s,%s'%('信息熵',cnt,a,b,c))\n",
    "        print(aline)\n",
    "        file_out.write(aline+'\\n')\n",
    "        file_out.flush()\n",
    "        \n",
    "    else:    \n",
    "        a=accuracy_score(y, rfr.predict(x) )\n",
    "        b=recall_score(y, rfr.predict(x),average='micro')\n",
    "        c=f1_score(y, rfr.predict(x),average='micro')\n",
    "        d=classification_report(y, rfr.predict(x))\n",
    "        aline=format('%s,%s,%s,%s,%s'%('fiter',cnt,a,b,c))\n",
    "        print(aline)\n",
    "        file_out.write(aline+'\\n')\n",
    "        file_out.flush() \n",
    "    \n",
    "        \n",
    "        "
   ]
  },
  {
   "cell_type": "code",
   "execution_count": 43,
   "metadata": {},
   "outputs": [
    {
     "name": "stderr",
     "output_type": "stream",
     "text": [
      "C:\\Anaconda\\lib\\site-packages\\ipykernel_launcher.py:29: DataConversionWarning: A column-vector y was passed when a 1d array was expected. Please change the shape of y to (n_samples,), for example using ravel().\n"
     ]
    },
    {
     "name": "stdout",
     "output_type": "stream",
     "text": [
      "(58752, 11)\n"
     ]
    },
    {
     "name": "stderr",
     "output_type": "stream",
     "text": [
      "C:\\Anaconda\\lib\\site-packages\\ipykernel_launcher.py:41: DataConversionWarning: A column-vector y was passed when a 1d array was expected. Please change the shape of y to (n_samples,), for example using ravel().\n",
      "C:\\Anaconda\\lib\\site-packages\\sklearn\\metrics\\classification.py:1135: UndefinedMetricWarning: Precision and F-score are ill-defined and being set to 0.0 in labels with no predicted samples.\n",
      "  'precision', 'predicted', average, warn_for)\n"
     ]
    },
    {
     "name": "stdout",
     "output_type": "stream",
     "text": [
      "信息熵,11,0.9717967047930284,0.9717967047930284,0.9717967047930284\n",
      "(58752, 11)\n"
     ]
    },
    {
     "name": "stderr",
     "output_type": "stream",
     "text": [
      "C:\\Anaconda\\lib\\site-packages\\ipykernel_launcher.py:48: DataConversionWarning: A column-vector y was passed when a 1d array was expected. Please change the shape of y to (n_samples,), for example using ravel().\n",
      "C:\\Anaconda\\lib\\site-packages\\sklearn\\metrics\\classification.py:1135: UndefinedMetricWarning: Precision and F-score are ill-defined and being set to 0.0 in labels with no predicted samples.\n",
      "  'precision', 'predicted', average, warn_for)\n",
      "C:\\Anaconda\\lib\\site-packages\\ipykernel_launcher.py:41: DataConversionWarning: A column-vector y was passed when a 1d array was expected. Please change the shape of y to (n_samples,), for example using ravel().\n"
     ]
    },
    {
     "name": "stdout",
     "output_type": "stream",
     "text": [
      "fiter,11,0.9718137254901961,0.9718137254901961,0.9718137254901961\n",
      "(58752, 21)\n"
     ]
    },
    {
     "name": "stderr",
     "output_type": "stream",
     "text": [
      "C:\\Anaconda\\lib\\site-packages\\sklearn\\metrics\\classification.py:1135: UndefinedMetricWarning: Precision and F-score are ill-defined and being set to 0.0 in labels with no predicted samples.\n",
      "  'precision', 'predicted', average, warn_for)\n"
     ]
    },
    {
     "name": "stdout",
     "output_type": "stream",
     "text": [
      "信息熵,21,0.9797623910675382,0.9797623910675382,0.9797623910675382\n",
      "(58752, 21)\n"
     ]
    },
    {
     "name": "stderr",
     "output_type": "stream",
     "text": [
      "C:\\Anaconda\\lib\\site-packages\\ipykernel_launcher.py:48: DataConversionWarning: A column-vector y was passed when a 1d array was expected. Please change the shape of y to (n_samples,), for example using ravel().\n",
      "C:\\Anaconda\\lib\\site-packages\\sklearn\\metrics\\classification.py:1135: UndefinedMetricWarning: Precision and F-score are ill-defined and being set to 0.0 in labels with no predicted samples.\n",
      "  'precision', 'predicted', average, warn_for)\n",
      "C:\\Anaconda\\lib\\site-packages\\ipykernel_launcher.py:41: DataConversionWarning: A column-vector y was passed when a 1d array was expected. Please change the shape of y to (n_samples,), for example using ravel().\n"
     ]
    },
    {
     "name": "stdout",
     "output_type": "stream",
     "text": [
      "fiter,21,0.45162717864923746,0.45162717864923746,0.45162717864923746\n",
      "(58752, 31)\n"
     ]
    },
    {
     "name": "stderr",
     "output_type": "stream",
     "text": [
      "C:\\Anaconda\\lib\\site-packages\\sklearn\\metrics\\classification.py:1135: UndefinedMetricWarning: Precision and F-score are ill-defined and being set to 0.0 in labels with no predicted samples.\n",
      "  'precision', 'predicted', average, warn_for)\n"
     ]
    },
    {
     "name": "stdout",
     "output_type": "stream",
     "text": [
      "信息熵,31,0.9797623910675382,0.9797623910675382,0.9797623910675382\n",
      "(58752, 31)\n"
     ]
    },
    {
     "name": "stderr",
     "output_type": "stream",
     "text": [
      "C:\\Anaconda\\lib\\site-packages\\ipykernel_launcher.py:48: DataConversionWarning: A column-vector y was passed when a 1d array was expected. Please change the shape of y to (n_samples,), for example using ravel().\n",
      "C:\\Anaconda\\lib\\site-packages\\sklearn\\metrics\\classification.py:1135: UndefinedMetricWarning: Precision and F-score are ill-defined and being set to 0.0 in labels with no predicted samples.\n",
      "  'precision', 'predicted', average, warn_for)\n",
      "C:\\Anaconda\\lib\\site-packages\\ipykernel_launcher.py:41: DataConversionWarning: A column-vector y was passed when a 1d array was expected. Please change the shape of y to (n_samples,), for example using ravel().\n"
     ]
    },
    {
     "name": "stdout",
     "output_type": "stream",
     "text": [
      "fiter,31,0.4308108660130719,0.4308108660130719,0.4308108660130719\n",
      "(58752, 41)\n"
     ]
    },
    {
     "name": "stderr",
     "output_type": "stream",
     "text": [
      "C:\\Anaconda\\lib\\site-packages\\sklearn\\metrics\\classification.py:1135: UndefinedMetricWarning: Precision and F-score are ill-defined and being set to 0.0 in labels with no predicted samples.\n",
      "  'precision', 'predicted', average, warn_for)\n"
     ]
    },
    {
     "name": "stdout",
     "output_type": "stream",
     "text": [
      "信息熵,41,0.9797623910675382,0.9797623910675382,0.9797623910675382\n",
      "(58752, 41)\n"
     ]
    },
    {
     "name": "stderr",
     "output_type": "stream",
     "text": [
      "C:\\Anaconda\\lib\\site-packages\\ipykernel_launcher.py:48: DataConversionWarning: A column-vector y was passed when a 1d array was expected. Please change the shape of y to (n_samples,), for example using ravel().\n"
     ]
    },
    {
     "name": "stdout",
     "output_type": "stream",
     "text": [
      "fiter,41,0.9797623910675382,0.9797623910675382,0.9797623910675382\n"
     ]
    },
    {
     "name": "stderr",
     "output_type": "stream",
     "text": [
      "C:\\Anaconda\\lib\\site-packages\\sklearn\\metrics\\classification.py:1135: UndefinedMetricWarning: Precision and F-score are ill-defined and being set to 0.0 in labels with no predicted samples.\n",
      "  'precision', 'predicted', average, warn_for)\n"
     ]
    }
   ],
   "source": [
    "#选择RF（随机森林）建立模型，并且对特征进行打分。随机森林打分的最终落脚点为CART树的基尼指数(基尼指数越高代表信息越确定)，跟熵的性质差不多，熵是衡量信息的不确定性\n",
    "from sklearn.utils import shuffle\n",
    "from sklearn.feature_selection import SelectKBest\n",
    "from sklearn.feature_selection import chi2\n",
    "from sklearn.model_selection import train_test_split  \n",
    "from sklearn.ensemble import RandomForestClassifier\n",
    "from sklearn.multiclass import OneVsRestClassifier\n",
    "from sklearn.ensemble import ExtraTreesClassifier\n",
    "from sklearn.preprocessing import Imputer\n",
    "\n",
    "names=list(df.columns)\n",
    "df = Imputer().fit_transform(df)\n",
    "df=pd.DataFrame(df,columns=names)\n",
    "\n",
    "\n",
    "\n",
    "#打乱数据集\n",
    "df=shuffle(df)\n",
    "#获取x,y\n",
    "x= df.iloc[:,:41] \n",
    "y=df.iloc[:,41:42]\n",
    "\n",
    "rfr = RandomForestClassifier(random_state=0, n_estimators=2000, n_jobs=-1)\n",
    "x_train,x_test,y_train,y_test = train_test_split(x,y,test_size=0.3,random_state=0) \n",
    "\n",
    "names=list(x.columns)\n",
    "\n",
    "clf = ExtraTreesClassifier(criterion='entropy')\n",
    "X_new = clf.fit(x, y)\n",
    "names=sorted(zip(map(lambda x: round(x, 4), clf.feature_importances_), names),reverse=True)\n",
    "\n",
    "list_names=[]\n",
    "for row in range(len(names)):\n",
    "        list_names.append(names[row][1])\n",
    "        if ((row%10==0) or (row==247)) and (row!=0):\n",
    "           #信息熵训练模型\n",
    "              row=row+1\n",
    "              x_train1=x_train[list_names]\n",
    "              x_test1=x_test[list_names]\n",
    "              print(x_test1.shape)   \n",
    "              rfr.fit(x_train1,y_train)   \n",
    "              save_result(rfr,x_test1,y_test,1,row)\n",
    "                \n",
    "            #卡方验证输出top前N特征\n",
    "            \n",
    "              X_new = SelectKBest(chi2, k=row).fit_transform(x_train, y_train)  \n",
    "              X_new1 = SelectKBest(chi2, k=row).fit_transform(x_test, y_test)\n",
    "              print(X_new1.shape)\n",
    "              rfr.fit(X_new,y_train)\n",
    "              save_result(rfr,X_new1,y_test,2,row)\n",
    "\n"
   ]
  },
  {
   "cell_type": "code",
   "execution_count": 12,
   "metadata": {},
   "outputs": [
    {
     "name": "stdout",
     "output_type": "stream",
     "text": [
      "[[ 399.    0.    0.  399.  399.]\n",
      " [ 399.    0.    0.  399.  399.]\n",
      " [ 399.    0.    0.  399.  399.]\n",
      " ...\n",
      " [ 433.    0.    0.  433.  433.]\n",
      " [ 400.    0.    0.  400.  400.]\n",
      " [1639.    0.    0. 1639. 1639.]]\n"
     ]
    }
   ],
   "source": [
    "X_new = SelectKBest(chi2, k=5).fit_transform(x_train, y_train)  \n",
    "print(X_new)"
   ]
  },
  {
   "cell_type": "code",
   "execution_count": 14,
   "metadata": {},
   "outputs": [
    {
     "name": "stderr",
     "output_type": "stream",
     "text": [
      "C:\\Anaconda\\lib\\site-packages\\ipykernel_launcher.py:20: DataConversionWarning: A column-vector y was passed when a 1d array was expected. Please change the shape of y to (n_samples,), for example using ravel().\n"
     ]
    },
    {
     "name": "stdout",
     "output_type": "stream",
     "text": [
      "熵特征排序结果：\n",
      "[(0.0414, '178'), (0.0312, '84'), (0.0304, '80'), (0.029, '93'), (0.0286, '171'), (0.0276, '33'), (0.0266, '37'), (0.0259, '98'), (0.0234, '182'), (0.0219, '27'), (0.0218, '200'), (0.02, '107'), (0.0186, '72'), (0.018, '4'), (0.017, '78'), (0.0166, '252'), (0.0158, '95'), (0.0155, '198'), (0.0154, '26'), (0.0153, '170'), (0.0152, '97'), (0.0151, '41'), (0.0119, '176'), (0.0114, '77'), (0.0104, '108'), (0.0097, '82'), (0.0097, '254'), (0.0092, '91'), (0.0089, '109'), (0.0086, '260'), (0.0084, '101'), (0.0083, '38'), (0.008, '185'), (0.0079, '94'), (0.0079, '110'), (0.0077, '32'), (0.0076, '99'), (0.0076, '181'), (0.0075, '203'), (0.0075, '125'), (0.0074, '201'), (0.007, '193'), (0.0066, '8'), (0.0065, '204'), (0.0065, '100'), (0.0064, '169'), (0.0063, '112'), (0.0062, '126'), (0.0057, '174'), (0.0054, '183'), (0.0052, '184'), (0.0052, '143'), (0.0051, '250'), (0.0048, '131'), (0.0047, '240'), (0.0047, '206'), (0.0046, '192'), (0.0045, '208'), (0.0045, '194'), (0.0043, '86'), (0.0043, '179'), (0.0043, '172'), (0.0042, '55'), (0.0042, '111'), (0.004, '31'), (0.004, '223'), (0.0039, '96'), (0.0038, '235'), (0.0038, '106'), (0.0037, '81'), (0.0037, '17'), (0.0036, '214'), (0.0036, '105'), (0.0035, '71'), (0.0034, '177'), (0.0034, '127'), (0.0034, '119'), (0.0033, '34'), (0.0033, '245'), (0.0033, '227'), (0.0033, '205'), (0.0031, '241'), (0.0031, '129'), (0.003, '79'), (0.003, '58'), (0.0028, '239'), (0.0028, '234'), (0.0028, '186'), (0.0027, '83'), (0.0026, '25'), (0.0026, '24'), (0.0026, '191'), (0.0026, '122'), (0.0025, '60'), (0.0025, '230'), (0.0025, '213'), (0.0024, '197'), (0.0023, '244'), (0.0023, '232'), (0.0023, '222'), (0.0022, '262'), (0.0022, '248'), (0.0022, '175'), (0.0021, '148'), (0.002, '44'), (0.002, '257'), (0.002, '242'), (0.0019, '238'), (0.0018, '57'), (0.0018, '264'), (0.0018, '190'), (0.0018, '102'), (0.0017, '265'), (0.0017, '135'), (0.0016, '92'), (0.0016, '56'), (0.0016, '46'), (0.0016, '28'), (0.0016, '243'), (0.0016, '188'), (0.0015, '237'), (0.0015, '150'), (0.0015, '136'), (0.0014, '85'), (0.0014, '249'), (0.0014, '220'), (0.0014, '149'), (0.0014, '139'), (0.0014, '123'), (0.0013, '59'), (0.0013, '53'), (0.0013, '233'), (0.0013, '229'), (0.0013, '225'), (0.0013, '207'), (0.0013, '141'), (0.0013, '128'), (0.0012, '45'), (0.0012, '259'), (0.0012, '210'), (0.0012, '199'), (0.0012, '142'), (0.0012, '121'), (0.0011, '39'), (0.0011, '263'), (0.0011, '221'), (0.0011, '18'), (0.0011, '130'), (0.0011, '124'), (0.0011, '120'), (0.001, '48'), (0.001, '43'), (0.001, '253'), (0.001, '219'), (0.001, '195'), (0.001, '189'), (0.001, '168'), (0.001, '132'), (0.0009, '216'), (0.0009, '212'), (0.0009, '151'), (0.0009, '140'), (0.0009, '13'), (0.0008, '47'), (0.0008, '261'), (0.0008, '202'), (0.0008, '19'), (0.0008, '152'), (0.0008, '137'), (0.0008, '133'), (0.0007, '30'), (0.0007, '247'), (0.0007, '224'), (0.0007, '218'), (0.0007, '211'), (0.0007, '196'), (0.0007, '16'), (0.0007, '15'), (0.0007, '144'), (0.0006, '75'), (0.0006, '74'), (0.0006, '258'), (0.0006, '255'), (0.0006, '251'), (0.0005, '51'), (0.0005, '50'), (0.0005, '36'), (0.0005, '23'), (0.0005, '215'), (0.0005, '14'), (0.0004, '54'), (0.0004, '228'), (0.0003, '70'), (0.0003, '64'), (0.0003, '49'), (0.0003, '29'), (0.0003, '231'), (0.0003, '22'), (0.0003, '167'), (0.0003, '134'), (0.0002, '76'), (0.0002, '173'), (0.0002, '160'), (0.0002, '138'), (0.0002, '103'), (0.0001, '73'), (0.0001, '69'), (0.0001, '63'), (0.0001, '62'), (0.0001, '35'), (0.0001, '21'), (0.0001, '166'), (0.0001, '162'), (0.0001, '161'), (0.0001, '159'), (0.0001, '158'), (0.0001, '157'), (0.0001, '156'), (0.0001, '155'), (0.0001, '147'), (0.0001, '146'), (0.0001, '145'), (0.0, '90'), (0.0, '89'), (0.0, '88'), (0.0, '87'), (0.0, '68'), (0.0, '67'), (0.0, '66'), (0.0, '65'), (0.0, '61'), (0.0, '52'), (0.0, '40'), (0.0, '256'), (0.0, '246'), (0.0, '236'), (0.0, '180'), (0.0, '164'), (0.0, '163'), (0.0, '154'), (0.0, '153'), (0.0, '118'), (0.0, '117'), (0.0, '116'), (0.0, '115'), (0.0, '114'), (0.0, '113'), (0.0, '104')]\n"
     ]
    }
   ],
   "source": [
    "from sklearn.utils import shuffle\n",
    "from sklearn.feature_selection import SelectKBest\n",
    "from sklearn.feature_selection import chi2\n",
    "from sklearn.model_selection import train_test_split  \n",
    "from sklearn.ensemble import RandomForestClassifier\n",
    "from sklearn.multiclass import OneVsRestClassifier\n",
    "from sklearn.ensemble import ExtraTreesClassifier\n",
    "\n",
    "#打乱数据集\n",
    "df=shuffle(df)\n",
    "#获取x,y\n",
    "x= df.iloc[:,:248] \n",
    "y=df.iloc[:,248:249]\n",
    "\n",
    "rfr = RandomForestClassifier(random_state=0, n_estimators=2000, n_jobs=-1)\n",
    "x_train,x_test,y_train,y_test = train_test_split(x,y,test_size=0.3,random_state=0) \n",
    "\n",
    "names=list(x.columns)\n",
    "clf = ExtraTreesClassifier(criterion='entropy')\n",
    "X_new = clf.fit(x, y)\n",
    "names=sorted(zip(map(lambda x: round(x, 4), clf.feature_importances_), names),reverse=True)\n",
    "print('熵特征排序结果：')\n",
    "print(names)"
   ]
  },
  {
   "cell_type": "code",
   "execution_count": 12,
   "metadata": {},
   "outputs": [
    {
     "ename": "NameError",
     "evalue": "name 'rfr_r' is not defined",
     "output_type": "error",
     "traceback": [
      "\u001b[1;31m---------------------------------------------------------------------------\u001b[0m",
      "\u001b[1;31mNameError\u001b[0m                                 Traceback (most recent call last)",
      "\u001b[1;32m<ipython-input-12-8300a2cfd8a4>\u001b[0m in \u001b[0;36m<module>\u001b[1;34m()\u001b[0m\n\u001b[0;32m      1\u001b[0m \u001b[1;31m#保存模型\u001b[0m\u001b[1;33m\u001b[0m\u001b[1;33m\u001b[0m\u001b[0m\n\u001b[0;32m      2\u001b[0m \u001b[1;32mfrom\u001b[0m \u001b[0msklearn\u001b[0m\u001b[1;33m.\u001b[0m\u001b[0mexternals\u001b[0m \u001b[1;32mimport\u001b[0m \u001b[0mjoblib\u001b[0m\u001b[1;33m\u001b[0m\u001b[0m\n\u001b[1;32m----> 3\u001b[1;33m \u001b[0mjoblib\u001b[0m\u001b[1;33m.\u001b[0m\u001b[0mdump\u001b[0m\u001b[1;33m(\u001b[0m\u001b[0mrfr_r\u001b[0m\u001b[1;33m,\u001b[0m \u001b[0mBASEPATH\u001b[0m\u001b[1;33m+\u001b[0m\u001b[1;34m'/rfr_r.model'\u001b[0m\u001b[1;33m)\u001b[0m\u001b[1;33m\u001b[0m\u001b[0m\n\u001b[0m\u001b[0;32m      4\u001b[0m \u001b[1;31m#加载模型\u001b[0m\u001b[1;33m\u001b[0m\u001b[1;33m\u001b[0m\u001b[0m\n\u001b[0;32m      5\u001b[0m \u001b[1;31m#rfr_r = joblib.load(BASEPATH+'/rfr_r.model')\u001b[0m\u001b[1;33m\u001b[0m\u001b[1;33m\u001b[0m\u001b[0m\n",
      "\u001b[1;31mNameError\u001b[0m: name 'rfr_r' is not defined"
     ]
    }
   ],
   "source": [
    "#保存模型\n",
    "from sklearn.externals import joblib\n",
    "joblib.dump(rfr_r, BASEPATH+'/rfr_r.model')\n",
    "#加载模型\n",
    "#rfr_r = joblib.load(BASEPATH+'/rfr_r.model')"
   ]
  },
  {
   "cell_type": "code",
   "execution_count": 28,
   "metadata": {},
   "outputs": [
    {
     "name": "stdout",
     "output_type": "stream",
     "text": [
      "测试集评估:\n",
      "             precision    recall  f1-score   support\n",
      "\n",
      "          0       1.00      0.80      0.89       133\n",
      "          1       1.00      0.40      0.57         5\n",
      "          2       0.94      0.80      0.86        20\n",
      "          3       1.00      1.00      1.00        25\n",
      "          4       0.87      0.99      0.93       418\n",
      "          6       1.00      0.67      0.80         9\n",
      "          7       0.99      1.00      1.00      1114\n",
      "          8       0.94      0.89      0.92        74\n",
      "          9       1.00      0.98      0.99        85\n",
      "         10       1.00      1.00      1.00     17992\n",
      "\n",
      "avg / total       0.99      0.99      0.99     19875\n",
      "\n",
      "预测集评估:\n",
      "0.9941635220125786\n",
      "0.9941635220125786\n",
      "0.9941635220125786\n"
     ]
    }
   ],
   "source": [
    "# 模型评估\n",
    "from sklearn.metrics import accuracy_score\n",
    "from sklearn.metrics import recall_score  \n",
    "from sklearn.metrics import f1_score\n",
    "from sklearn.metrics import classification_report\n",
    "# 测试集评估\n",
    "print('测试集评估:')\n",
    "print(classification_report(y_test, rfr.predict(x_test) ))\n",
    "\n",
    "# 预测集评估\n",
    "print('预测集评估:')\n",
    "print(accuracy_score(y_test, rfr.predict(x_test) ))\n",
    "print(recall_score(y_test, rfr.predict(x_test),average='micro'))\n",
    "print(f1_score(y_test, rfr.predict(x_test),average='micro'))\n"
   ]
  },
  {
   "cell_type": "code",
   "execution_count": null,
   "metadata": {},
   "outputs": [],
   "source": []
  }
 ],
 "metadata": {
  "kernelspec": {
   "display_name": "Python 3",
   "language": "python",
   "name": "python3"
  },
  "language_info": {
   "codemirror_mode": {
    "name": "ipython",
    "version": 3
   },
   "file_extension": ".py",
   "mimetype": "text/x-python",
   "name": "python",
   "nbconvert_exporter": "python",
   "pygments_lexer": "ipython3",
   "version": "3.6.4"
  }
 },
 "nbformat": 4,
 "nbformat_minor": 2
}
