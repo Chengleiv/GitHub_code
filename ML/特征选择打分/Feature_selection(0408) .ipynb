{
 "cells": [
  {
   "cell_type": "markdown",
   "metadata": {},
   "source": [
    "                                       特征筛选"
   ]
  },
  {
   "cell_type": "code",
   "execution_count": 1,
   "metadata": {},
   "outputs": [
    {
     "name": "stdout",
     "output_type": "stream",
     "text": [
      "C:/Users/85242/Desktop/特征选择打分\n"
     ]
    }
   ],
   "source": [
    "#导入数据分析包\n",
    "import numpy as np\n",
    "import pandas as pd\n",
    "import sklearn as sk\n",
    "from os.path import dirname\n",
    "import os\n",
    "import sys\n",
    "\n",
    "\n",
    "# 基础路径:即代码所在路径\n",
    "BASEPATH=str(os.getcwd()).replace('\\\\','/')\n",
    "print(BASEPATH)"
   ]
  },
  {
   "cell_type": "code",
   "execution_count": 2,
   "metadata": {},
   "outputs": [
    {
     "name": "stdout",
     "output_type": "stream",
     "text": [
      "   1    2         3   4    5     6  7  8  9  10       ...           33    34  \\\n",
      "0  0  tcp  ftp_data  SF  615     0  0  0  0   0       ...         56.0  0.32   \n",
      "1  0  tcp      http  SF  312   677  0  0  0   0       ...        255.0  1.00   \n",
      "2  0  udp   private  SF  105   146  0  0  0   0       ...        254.0  1.00   \n",
      "3  0  tcp      http  SF  307  1528  0  0  0   0       ...        255.0  1.00   \n",
      "4  0  udp   private  SF  105   146  0  0  0   0       ...        254.0  1.00   \n",
      "\n",
      "     35    36    37   38   39   40   41              42  \n",
      "0  0.03  0.32  0.00  0.0  0.0  0.0  0.0         normal.  \n",
      "1  0.00  0.05  0.04  0.0  0.0  0.0  0.0         normal.  \n",
      "2  0.01  0.00  0.00  0.0  0.0  0.0  0.0         normal.  \n",
      "3  0.00  0.00  0.00  0.0  0.0  0.0  0.0         normal.  \n",
      "4  0.01  0.01  0.00  0.0  0.0  0.0  0.0  snmpgetattack.  \n",
      "\n",
      "[5 rows x 42 columns]\n"
     ]
    }
   ],
   "source": [
    "#导入数据集并且查看数据情况\n",
    "f=open(BASEPATH+'/kdd99.csv')\n",
    "df=pd.read_csv(f,low_memory=False)\n",
    "print(df.head(5))"
   ]
  },
  {
   "cell_type": "code",
   "execution_count": 3,
   "metadata": {},
   "outputs": [
    {
     "name": "stderr",
     "output_type": "stream",
     "text": [
      "C:\\Anaconda\\lib\\site-packages\\ipykernel_launcher.py:4: FutureWarning: 'labels' is deprecated. Use 'codes' instead\n",
      "  after removing the cwd from sys.path.\n"
     ]
    }
   ],
   "source": [
    "#查看标签数据有哪些类别，且做数值转换\n",
    "labe=df['42']\n",
    "category = pd.Categorical(labe)\n",
    "df['42']=category.labels"
   ]
  },
  {
   "cell_type": "code",
   "execution_count": 4,
   "metadata": {},
   "outputs": [
    {
     "name": "stdout",
     "output_type": "stream",
     "text": [
      "     2         3   4 15\n",
      "0  tcp  ftp_data  SF  0\n",
      "1  tcp      http  SF  0\n",
      "2  udp   private  SF  0\n",
      "3  tcp      http  SF  0\n"
     ]
    }
   ],
   "source": [
    "df1=df.select_dtypes(include=['object'])\n",
    "print(df1.head(4))"
   ]
  },
  {
   "cell_type": "code",
   "execution_count": 5,
   "metadata": {},
   "outputs": [
    {
     "name": "stdout",
     "output_type": "stream",
     "text": [
      "     2         3   4 15\n",
      "0  tcp  ftp_data  SF  0\n",
      "1  tcp      http  SF  0\n",
      "2  udp   private  SF  0\n",
      "3  tcp      http  SF  0\n",
      "4  udp   private  SF  0\n",
      "Index(['2', '3', '4', '15'], dtype='object')\n"
     ]
    },
    {
     "name": "stderr",
     "output_type": "stream",
     "text": [
      "C:\\Anaconda\\lib\\site-packages\\ipykernel_launcher.py:11: FutureWarning: 'labels' is deprecated. Use 'codes' instead\n",
      "  # This is added back by InteractiveShellApp.init_path()\n",
      "C:\\Anaconda\\lib\\site-packages\\ipykernel_launcher.py:11: SettingWithCopyWarning: \n",
      "A value is trying to be set on a copy of a slice from a DataFrame.\n",
      "Try using .loc[row_indexer,col_indexer] = value instead\n",
      "\n",
      "See the caveats in the documentation: http://pandas.pydata.org/pandas-docs/stable/indexing.html#indexing-view-versus-copy\n",
      "  # This is added back by InteractiveShellApp.init_path()\n"
     ]
    },
    {
     "name": "stdout",
     "output_type": "stream",
     "text": [
      "   2   3   4  15  1    5     6  7  8  9 ...     33    34    35    36    37  \\\n",
      "0  2  20  10   0  0  615     0  0  0  0 ...   56.0  0.32  0.03  0.32  0.00   \n",
      "1  2  23  10   0  0  312   677  0  0  0 ...  255.0  1.00  0.00  0.05  0.04   \n",
      "2  3  47  10   0  0  105   146  0  0  0 ...  254.0  1.00  0.01  0.00  0.00   \n",
      "3  2  23  10   0  0  307  1528  0  0  0 ...  255.0  1.00  0.00  0.00  0.00   \n",
      "4  3  47  10   0  0  105   146  0  0  0 ...  254.0  1.00  0.01  0.01  0.00   \n",
      "\n",
      "    38   39   40   41  42  \n",
      "0  0.0  0.0  0.0  0.0  16  \n",
      "1  0.0  0.0  0.0  0.0  16  \n",
      "2  0.0  0.0  0.0  0.0  16  \n",
      "3  0.0  0.0  0.0  0.0  16  \n",
      "4  0.0  0.0  0.0  0.0  28  \n",
      "\n",
      "[5 rows x 42 columns]\n"
     ]
    }
   ],
   "source": [
    "#此部分为数据预处理部分\n",
    "df1=df.select_dtypes(include=['object'])\n",
    "print(df1.head(5))\n",
    "colums=df1.columns\n",
    "print(colums)\n",
    "for colum in colums:\n",
    "    \n",
    "    if int(colum)<=15:\n",
    "        labe=df1[colum]\n",
    "        category = pd.Categorical(labe)\n",
    "        df1[colum]=category.labels\n",
    "    else:\n",
    "        df1[colum]=df1[colum].replace('?',0)\n",
    "        df1[colum]=df1[colum].astype(np.float64)\n",
    "\n",
    "#删除object数据类型        \n",
    "for colum in colums:\n",
    "    df.drop(colum,axis=1, inplace=True)\n",
    "        \n",
    "df=pd.concat([df1,df],axis=1)\n",
    "print(df.head(5))\n",
    "        "
   ]
  },
  {
   "cell_type": "code",
   "execution_count": 42,
   "metadata": {},
   "outputs": [],
   "source": [
    "from sklearn.metrics import accuracy_score\n",
    "from sklearn.metrics import recall_score  \n",
    "from sklearn.metrics import f1_score\n",
    "from sklearn.metrics import classification_report\n",
    "#保存结果\n",
    "file_out=open(BASEPATH+'/result4.csv',mode='w')\n",
    "def save_result(rfr,x,y,type,cnt):\n",
    "    \n",
    "    if type==1:\n",
    "        a=accuracy_score(y, rfr.predict(x) )\n",
    "        b=recall_score(y, rfr.predict(x),average='micro')\n",
    "        c=f1_score(y, rfr.predict(x),average='micro')\n",
    "        d=classification_report(y, rfr.predict(x))\n",
    "        aline=format('%s,%s,%s,%s,%s'%('信息熵',cnt,a,b,c))\n",
    "        print(aline)\n",
    "        file_out.write(aline+'\\n')\n",
    "        file_out.flush()\n",
    "        \n",
    "    else:    \n",
    "        a=accuracy_score(y, rfr.predict(x) )\n",
    "        b=recall_score(y, rfr.predict(x),average='micro')\n",
    "        c=f1_score(y, rfr.predict(x),average='micro')\n",
    "        d=classification_report(y, rfr.predict(x))\n",
    "        aline=format('%s,%s,%s,%s,%s'%('fiter',cnt,a,b,c))\n",
    "        print(aline)\n",
    "        file_out.write(aline+'\\n')\n",
    "        file_out.flush() \n",
    "    \n",
    "        \n",
    "        "
   ]
  },
  {
   "cell_type": "code",
   "execution_count": 43,
   "metadata": {},
   "outputs": [
    {
     "name": "stderr",
     "output_type": "stream",
     "text": [
      "C:\\Anaconda\\lib\\site-packages\\ipykernel_launcher.py:29: DataConversionWarning: A column-vector y was passed when a 1d array was expected. Please change the shape of y to (n_samples,), for example using ravel().\n"
     ]
    },
    {
     "name": "stdout",
     "output_type": "stream",
     "text": [
      "(58752, 11)\n"
     ]
    },
    {
     "name": "stderr",
     "output_type": "stream",
     "text": [
      "C:\\Anaconda\\lib\\site-packages\\ipykernel_launcher.py:41: DataConversionWarning: A column-vector y was passed when a 1d array was expected. Please change the shape of y to (n_samples,), for example using ravel().\n",
      "C:\\Anaconda\\lib\\site-packages\\sklearn\\metrics\\classification.py:1135: UndefinedMetricWarning: Precision and F-score are ill-defined and being set to 0.0 in labels with no predicted samples.\n",
      "  'precision', 'predicted', average, warn_for)\n"
     ]
    },
    {
     "name": "stdout",
     "output_type": "stream",
     "text": [
      "信息熵,11,0.9717967047930284,0.9717967047930284,0.9717967047930284\n",
      "(58752, 11)\n"
     ]
    },
    {
     "name": "stderr",
     "output_type": "stream",
     "text": [
      "C:\\Anaconda\\lib\\site-packages\\ipykernel_launcher.py:48: DataConversionWarning: A column-vector y was passed when a 1d array was expected. Please change the shape of y to (n_samples,), for example using ravel().\n",
      "C:\\Anaconda\\lib\\site-packages\\sklearn\\metrics\\classification.py:1135: UndefinedMetricWarning: Precision and F-score are ill-defined and being set to 0.0 in labels with no predicted samples.\n",
      "  'precision', 'predicted', average, warn_for)\n",
      "C:\\Anaconda\\lib\\site-packages\\ipykernel_launcher.py:41: DataConversionWarning: A column-vector y was passed when a 1d array was expected. Please change the shape of y to (n_samples,), for example using ravel().\n"
     ]
    },
    {
     "name": "stdout",
     "output_type": "stream",
     "text": [
      "fiter,11,0.9718137254901961,0.9718137254901961,0.9718137254901961\n",
      "(58752, 21)\n"
     ]
    },
    {
     "name": "stderr",
     "output_type": "stream",
     "text": [
      "C:\\Anaconda\\lib\\site-packages\\sklearn\\metrics\\classification.py:1135: UndefinedMetricWarning: Precision and F-score are ill-defined and being set to 0.0 in labels with no predicted samples.\n",
      "  'precision', 'predicted', average, warn_for)\n"
     ]
    },
    {
     "name": "stdout",
     "output_type": "stream",
     "text": [
      "信息熵,21,0.9797623910675382,0.9797623910675382,0.9797623910675382\n",
      "(58752, 21)\n"
     ]
    },
    {
     "name": "stderr",
     "output_type": "stream",
     "text": [
      "C:\\Anaconda\\lib\\site-packages\\ipykernel_launcher.py:48: DataConversionWarning: A column-vector y was passed when a 1d array was expected. Please change the shape of y to (n_samples,), for example using ravel().\n",
      "C:\\Anaconda\\lib\\site-packages\\sklearn\\metrics\\classification.py:1135: UndefinedMetricWarning: Precision and F-score are ill-defined and being set to 0.0 in labels with no predicted samples.\n",
      "  'precision', 'predicted', average, warn_for)\n",
      "C:\\Anaconda\\lib\\site-packages\\ipykernel_launcher.py:41: DataConversionWarning: A column-vector y was passed when a 1d array was expected. Please change the shape of y to (n_samples,), for example using ravel().\n"
     ]
    },
    {
     "name": "stdout",
     "output_type": "stream",
     "text": [
      "fiter,21,0.45162717864923746,0.45162717864923746,0.45162717864923746\n",
      "(58752, 31)\n"
     ]
    },
    {
     "name": "stderr",
     "output_type": "stream",
     "text": [
      "C:\\Anaconda\\lib\\site-packages\\sklearn\\metrics\\classification.py:1135: UndefinedMetricWarning: Precision and F-score are ill-defined and being set to 0.0 in labels with no predicted samples.\n",
      "  'precision', 'predicted', average, warn_for)\n"
     ]
    },
    {
     "name": "stdout",
     "output_type": "stream",
     "text": [
      "信息熵,31,0.9797623910675382,0.9797623910675382,0.9797623910675382\n",
      "(58752, 31)\n"
     ]
    },
    {
     "name": "stderr",
     "output_type": "stream",
     "text": [
      "C:\\Anaconda\\lib\\site-packages\\ipykernel_launcher.py:48: DataConversionWarning: A column-vector y was passed when a 1d array was expected. Please change the shape of y to (n_samples,), for example using ravel().\n",
      "C:\\Anaconda\\lib\\site-packages\\sklearn\\metrics\\classification.py:1135: UndefinedMetricWarning: Precision and F-score are ill-defined and being set to 0.0 in labels with no predicted samples.\n",
      "  'precision', 'predicted', average, warn_for)\n",
      "C:\\Anaconda\\lib\\site-packages\\ipykernel_launcher.py:41: DataConversionWarning: A column-vector y was passed when a 1d array was expected. Please change the shape of y to (n_samples,), for example using ravel().\n"
     ]
    },
    {
     "name": "stdout",
     "output_type": "stream",
     "text": [
      "fiter,31,0.4308108660130719,0.4308108660130719,0.4308108660130719\n",
      "(58752, 41)\n"
     ]
    },
    {
     "name": "stderr",
     "output_type": "stream",
     "text": [
      "C:\\Anaconda\\lib\\site-packages\\sklearn\\metrics\\classification.py:1135: UndefinedMetricWarning: Precision and F-score are ill-defined and being set to 0.0 in labels with no predicted samples.\n",
      "  'precision', 'predicted', average, warn_for)\n"
     ]
    },
    {
     "name": "stdout",
     "output_type": "stream",
     "text": [
      "信息熵,41,0.9797623910675382,0.9797623910675382,0.9797623910675382\n",
      "(58752, 41)\n"
     ]
    },
    {
     "name": "stderr",
     "output_type": "stream",
     "text": [
      "C:\\Anaconda\\lib\\site-packages\\ipykernel_launcher.py:48: DataConversionWarning: A column-vector y was passed when a 1d array was expected. Please change the shape of y to (n_samples,), for example using ravel().\n"
     ]
    },
    {
     "name": "stdout",
     "output_type": "stream",
     "text": [
      "fiter,41,0.9797623910675382,0.9797623910675382,0.9797623910675382\n"
     ]
    },
    {
     "name": "stderr",
     "output_type": "stream",
     "text": [
      "C:\\Anaconda\\lib\\site-packages\\sklearn\\metrics\\classification.py:1135: UndefinedMetricWarning: Precision and F-score are ill-defined and being set to 0.0 in labels with no predicted samples.\n",
      "  'precision', 'predicted', average, warn_for)\n"
     ]
    }
   ],
   "source": [
    "#选择RF（随机森林）建立模型，并且对特征进行打分。随机森林打分的最终落脚点为CART树的基尼指数(基尼指数越高代表信息越确定)，跟熵的性质差不多，熵是衡量信息的不确定性\n",
    "from sklearn.utils import shuffle\n",
    "from sklearn.feature_selection import SelectKBest\n",
    "from sklearn.feature_selection import chi2\n",
    "from sklearn.model_selection import train_test_split  \n",
    "from sklearn.ensemble import RandomForestClassifier\n",
    "from sklearn.multiclass import OneVsRestClassifier\n",
    "from sklearn.ensemble import ExtraTreesClassifier\n",
    "from sklearn.preprocessing import Imputer\n",
    "\n",
    "names=list(df.columns)\n",
    "df = Imputer().fit_transform(df)\n",
    "df=pd.DataFrame(df,columns=names)\n",
    "\n",
    "\n",
    "\n",
    "#打乱数据集\n",
    "df=shuffle(df)\n",
    "#获取x,y\n",
    "x= df.iloc[:,:41] \n",
    "y=df.iloc[:,41:42]\n",
    "\n",
    "rfr = RandomForestClassifier(random_state=0, n_estimators=2000, n_jobs=-1)\n",
    "x_train,x_test,y_train,y_test = train_test_split(x,y,test_size=0.3,random_state=0) \n",
    "\n",
    "names=list(x.columns)\n",
    "\n",
    "clf = ExtraTreesClassifier(criterion='entropy')\n",
    "X_new = clf.fit(x, y)\n",
    "names=sorted(zip(map(lambda x: round(x, 4), clf.feature_importances_), names),reverse=True)\n",
    "\n",
    "list_names=[]\n",
    "for row in range(len(names)):\n",
    "        list_names.append(names[row][1])\n",
    "        if ((row%10==0) or (row==247)) and (row!=0):\n",
    "           #信息熵训练模型\n",
    "              row=row+1\n",
    "              x_train1=x_train[list_names]\n",
    "              x_test1=x_test[list_names]\n",
    "              print(x_test1.shape)   \n",
    "              rfr.fit(x_train1,y_train)   \n",
    "              save_result(rfr,x_test1,y_test,1,row)\n",
    "                \n",
    "            #卡方验证输出top前N特征\n",
    "            \n",
    "              X_new = SelectKBest(chi2, k=row).fit_transform(x_train, y_train)  \n",
    "              X_new1 = SelectKBest(chi2, k=row).fit_transform(x_test, y_test)\n",
    "              print(X_new1.shape)\n",
    "              rfr.fit(X_new,y_train)\n",
    "              save_result(rfr,X_new1,y_test,2,row)\n",
    "\n"
   ]
  },
  {
   "cell_type": "code",
   "execution_count": 12,
   "metadata": {},
   "outputs": [
    {
     "name": "stdout",
     "output_type": "stream",
     "text": [
      "[[ 399.    0.    0.  399.  399.]\n",
      " [ 399.    0.    0.  399.  399.]\n",
      " [ 399.    0.    0.  399.  399.]\n",
      " ...\n",
      " [ 433.    0.    0.  433.  433.]\n",
      " [ 400.    0.    0.  400.  400.]\n",
      " [1639.    0.    0. 1639. 1639.]]\n"
     ]
    }
   ],
   "source": [
    "X_new = SelectKBest(chi2, k=5).fit_transform(x_train, y_train)  \n",
    "print(X_new)"
   ]
  },
  {
   "cell_type": "code",
   "execution_count": 8,
   "metadata": {},
   "outputs": [
    {
     "name": "stderr",
     "output_type": "stream",
     "text": [
      "C:\\Anaconda\\lib\\site-packages\\ipykernel_launcher.py:28: DataConversionWarning: A column-vector y was passed when a 1d array was expected. Please change the shape of y to (n_samples,), for example using ravel().\n"
     ]
    },
    {
     "name": "stdout",
     "output_type": "stream",
     "text": [
      "熵特征排序结果：\n",
      "[(0.2187, '36'), (0.0869, '2'), (0.0854, '4'), (0.0832, '23'), (0.06, '27'), (0.0565, '24'), (0.05, '12'), (0.0422, '3'), (0.0404, '40'), (0.0384, '41'), (0.0376, '33'), (0.0344, '29'), (0.0259, '28'), (0.0221, '35'), (0.021, '32'), (0.0182, '31'), (0.0148, '34'), (0.014, '30'), (0.01, '5'), (0.008, '6'), (0.0053, '25'), (0.0047, '37'), (0.0045, '1'), (0.0044, '38'), (0.0029, '11'), (0.0028, '22'), (0.0027, '26'), (0.0026, '39'), (0.001, '10'), (0.0004, '13'), (0.0002, '8'), (0.0002, '14'), (0.0001, '9'), (0.0001, '21'), (0.0001, '19'), (0.0001, '18'), (0.0001, '17'), (0.0001, '16'), (0.0, '7'), (0.0, '20'), (0.0, '15')]\n"
     ]
    }
   ],
   "source": [
    "from sklearn.utils import shuffle\n",
    "from sklearn.feature_selection import SelectKBest\n",
    "from sklearn.feature_selection import chi2\n",
    "from sklearn.model_selection import train_test_split  \n",
    "from sklearn.ensemble import RandomForestClassifier\n",
    "from sklearn.multiclass import OneVsRestClassifier\n",
    "from sklearn.ensemble import ExtraTreesClassifier\n",
    "from sklearn.preprocessing import Imputer\n",
    "#打乱数据集\n",
    "\n",
    "names=list(df.columns)\n",
    "df = Imputer().fit_transform(df)\n",
    "df=pd.DataFrame(df,columns=names)\n",
    "\n",
    "\n",
    "\n",
    "df=shuffle(df)\n",
    "#获取x,y\n",
    "x= df.iloc[:,:41] \n",
    "y=df.iloc[:,41:42]\n",
    "\n",
    "rfr = RandomForestClassifier(random_state=0, n_estimators=2000, n_jobs=-1)\n",
    "x_train,x_test,y_train,y_test = train_test_split(x,y,test_size=0.3,random_state=0) \n",
    "\n",
    "names=list(x.columns)\n",
    "\n",
    "clf = ExtraTreesClassifier(criterion='entropy')\n",
    "X_new = clf.fit(x, y)\n",
    "names=sorted(zip(map(lambda x: round(x, 4), clf.feature_importances_), names),reverse=True)\n",
    "print('熵特征排序结果：')\n",
    "print(names)"
   ]
  },
  {
   "cell_type": "code",
   "execution_count": 12,
   "metadata": {},
   "outputs": [
    {
     "ename": "NameError",
     "evalue": "name 'rfr_r' is not defined",
     "output_type": "error",
     "traceback": [
      "\u001b[1;31m---------------------------------------------------------------------------\u001b[0m",
      "\u001b[1;31mNameError\u001b[0m                                 Traceback (most recent call last)",
      "\u001b[1;32m<ipython-input-12-8300a2cfd8a4>\u001b[0m in \u001b[0;36m<module>\u001b[1;34m()\u001b[0m\n\u001b[0;32m      1\u001b[0m \u001b[1;31m#保存模型\u001b[0m\u001b[1;33m\u001b[0m\u001b[1;33m\u001b[0m\u001b[0m\n\u001b[0;32m      2\u001b[0m \u001b[1;32mfrom\u001b[0m \u001b[0msklearn\u001b[0m\u001b[1;33m.\u001b[0m\u001b[0mexternals\u001b[0m \u001b[1;32mimport\u001b[0m \u001b[0mjoblib\u001b[0m\u001b[1;33m\u001b[0m\u001b[0m\n\u001b[1;32m----> 3\u001b[1;33m \u001b[0mjoblib\u001b[0m\u001b[1;33m.\u001b[0m\u001b[0mdump\u001b[0m\u001b[1;33m(\u001b[0m\u001b[0mrfr_r\u001b[0m\u001b[1;33m,\u001b[0m \u001b[0mBASEPATH\u001b[0m\u001b[1;33m+\u001b[0m\u001b[1;34m'/rfr_r.model'\u001b[0m\u001b[1;33m)\u001b[0m\u001b[1;33m\u001b[0m\u001b[0m\n\u001b[0m\u001b[0;32m      4\u001b[0m \u001b[1;31m#加载模型\u001b[0m\u001b[1;33m\u001b[0m\u001b[1;33m\u001b[0m\u001b[0m\n\u001b[0;32m      5\u001b[0m \u001b[1;31m#rfr_r = joblib.load(BASEPATH+'/rfr_r.model')\u001b[0m\u001b[1;33m\u001b[0m\u001b[1;33m\u001b[0m\u001b[0m\n",
      "\u001b[1;31mNameError\u001b[0m: name 'rfr_r' is not defined"
     ]
    }
   ],
   "source": [
    "#保存模型\n",
    "from sklearn.externals import joblib\n",
    "joblib.dump(rfr_r, BASEPATH+'/rfr_r.model')\n",
    "#加载模型\n",
    "#rfr_r = joblib.load(BASEPATH+'/rfr_r.model')"
   ]
  },
  {
   "cell_type": "code",
   "execution_count": 28,
   "metadata": {},
   "outputs": [
    {
     "name": "stdout",
     "output_type": "stream",
     "text": [
      "测试集评估:\n",
      "             precision    recall  f1-score   support\n",
      "\n",
      "          0       1.00      0.80      0.89       133\n",
      "          1       1.00      0.40      0.57         5\n",
      "          2       0.94      0.80      0.86        20\n",
      "          3       1.00      1.00      1.00        25\n",
      "          4       0.87      0.99      0.93       418\n",
      "          6       1.00      0.67      0.80         9\n",
      "          7       0.99      1.00      1.00      1114\n",
      "          8       0.94      0.89      0.92        74\n",
      "          9       1.00      0.98      0.99        85\n",
      "         10       1.00      1.00      1.00     17992\n",
      "\n",
      "avg / total       0.99      0.99      0.99     19875\n",
      "\n",
      "预测集评估:\n",
      "0.9941635220125786\n",
      "0.9941635220125786\n",
      "0.9941635220125786\n"
     ]
    }
   ],
   "source": [
    "# 模型评估\n",
    "from sklearn.metrics import accuracy_score\n",
    "from sklearn.metrics import recall_score  \n",
    "from sklearn.metrics import f1_score\n",
    "from sklearn.metrics import classification_report\n",
    "# 测试集评估\n",
    "print('测试集评估:')\n",
    "print(classification_report(y_test, rfr.predict(x_test) ))\n",
    "\n",
    "# 预测集评估\n",
    "print('预测集评估:')\n",
    "print(accuracy_score(y_test, rfr.predict(x_test) ))\n",
    "print(recall_score(y_test, rfr.predict(x_test),average='micro'))\n",
    "print(f1_score(y_test, rfr.predict(x_test),average='micro'))\n"
   ]
  },
  {
   "cell_type": "code",
   "execution_count": null,
   "metadata": {},
   "outputs": [],
   "source": []
  }
 ],
 "metadata": {
  "kernelspec": {
   "display_name": "Python 3",
   "language": "python",
   "name": "python3"
  },
  "language_info": {
   "codemirror_mode": {
    "name": "ipython",
    "version": 3
   },
   "file_extension": ".py",
   "mimetype": "text/x-python",
   "name": "python",
   "nbconvert_exporter": "python",
   "pygments_lexer": "ipython3",
   "version": "3.6.4"
  }
 },
 "nbformat": 4,
 "nbformat_minor": 2
}
